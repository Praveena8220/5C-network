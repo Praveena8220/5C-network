{
 "cells": [
  {
   "cell_type": "code",
   "execution_count": 1,
   "id": "61ef575c",
   "metadata": {},
   "outputs": [
    {
     "name": "stdout",
     "output_type": "stream",
     "text": [
      "         Date Firm bought from  Buying price  Quantity bought   Customer  \\\n",
      "0  2023-08-21          Vendor6         72.11               60  Customer7   \n",
      "1  2023-08-21          Vendor4         75.08               92  Customer7   \n",
      "2  2023-08-21          Vendor7         83.93               16  Customer2   \n",
      "3  2023-08-21          Vendor7         52.01               62  Customer3   \n",
      "4  2023-08-21          Vendor2         98.91                1  Customer5   \n",
      "..        ...              ...           ...              ...        ...   \n",
      "65 2023-08-27          Vendor4         64.82               28  Customer6   \n",
      "66 2023-08-27          Vendor8         88.79               14  Customer3   \n",
      "67 2023-08-27          Vendor5         63.30               81  Customer5   \n",
      "68 2023-08-27          Vendor5         94.06               18  Customer5   \n",
      "69 2023-08-27          Vendor5         56.28               25  Customer6   \n",
      "\n",
      "    Selling price  Quantity sold  Total Cost  Total Revenue  \\\n",
      "0           91.58             44     4326.60        4029.52   \n",
      "1           83.71             17     6907.36        1423.07   \n",
      "2          103.76             15     1342.88        1556.40   \n",
      "3           64.53              7     3224.62         451.71   \n",
      "4          140.92              1       98.91         140.92   \n",
      "..            ...            ...         ...            ...   \n",
      "65          87.45             18     1814.96        1574.10   \n",
      "66         105.59              5     1243.06         527.95   \n",
      "67          92.92             32     5127.30        2973.44   \n",
      "68         125.67              4     1693.08         502.68   \n",
      "69          82.16              1     1407.00          82.16   \n",
      "\n",
      "    Daily Gross Profit  3-Day Avg Gross Profit  \n",
      "0              -297.08                     NaN  \n",
      "1             -5484.29                     NaN  \n",
      "2               213.52            -1855.950000  \n",
      "3             -2772.91            -2681.226667  \n",
      "4                42.01             -839.126667  \n",
      "..                 ...                     ...  \n",
      "65             -240.86             -828.670000  \n",
      "66             -715.11             -341.993333  \n",
      "67            -2153.86            -1036.610000  \n",
      "68            -1190.40            -1353.123333  \n",
      "69            -1324.84            -1556.366667  \n",
      "\n",
      "[70 rows x 11 columns]\n"
     ]
    }
   ],
   "source": [
    "import pandas as pd\n",
    "df = pd.read_csv(\"sales_data_2.csv\")\n",
    "\n",
    "df['Date'] = pd.to_datetime(df['Date'])\n",
    "\n",
    "df['Total Cost'] = df['Buying price'] * df['Quantity bought']\n",
    "df['Total Revenue'] = df['Selling price'] * df['Quantity sold']\n",
    "df['Daily Gross Profit'] = df['Total Revenue'] - df['Total Cost']\n",
    "\n",
    "df['3-Day Avg Gross Profit'] = df['Daily Gross Profit'].rolling(window=3).mean()\n",
    "\n",
    "print(df)"
   ]
  },
  {
   "cell_type": "code",
   "execution_count": 2,
   "id": "2a4c41d9",
   "metadata": {},
   "outputs": [
    {
     "name": "stdout",
     "output_type": "stream",
     "text": [
      "Buying Price Percentiles:\n",
      "0.25    29.90\n",
      "0.50    60.76\n",
      "0.75    78.32\n",
      "Name: Buying price, dtype: float64\n",
      "\n",
      "Selling Price Percentiles:\n",
      "0.25     38.9750\n",
      "0.50     78.9900\n",
      "0.75    103.3975\n",
      "Name: Selling price, dtype: float64\n"
     ]
    }
   ],
   "source": [
    "\n",
    "buying_price_percentiles = df['Buying price'].quantile([0.25, 0.5, 0.75])\n",
    "selling_price_percentiles = df['Selling price'].quantile([0.25, 0.5, 0.75])\n",
    "\n",
    "print(\"Buying Price Percentiles:\")\n",
    "print(buying_price_percentiles)\n",
    "\n",
    "print(\"\\nSelling Price Percentiles:\")\n",
    "print(selling_price_percentiles)"
   ]
  },
  {
   "cell_type": "code",
   "execution_count": 3,
   "id": "2f3d5f08",
   "metadata": {},
   "outputs": [
    {
     "name": "stdout",
     "output_type": "stream",
     "text": [
      "Sapota's buying prices below the 25th percentile: 0\n",
      "Sapota's selling prices above the 75th percentile: 0\n"
     ]
    }
   ],
   "source": [
    "\n",
    "sapota_data = df[df['Firm bought from'] == 'Sapota']\n",
    "\n",
    "below_25th_percentile_buying = (sapota_data['Buying price'] < buying_price_percentiles[0.25]).sum()\n",
    "above_75th_percentile_selling = (sapota_data['Selling price'] > selling_price_percentiles[0.75]).sum()\n",
    "\n",
    "print(\"Sapota's buying prices below the 25th percentile:\", below_25th_percentile_buying)\n",
    "print(\"Sapota's selling prices above the 75th percentile:\", above_75th_percentile_selling)"
   ]
  },
  {
   "cell_type": "code",
   "execution_count": null,
   "id": "9a38d670",
   "metadata": {},
   "outputs": [],
   "source": []
  }
 ],
 "metadata": {
  "kernelspec": {
   "display_name": "Python 3 (ipykernel)",
   "language": "python",
   "name": "python3"
  },
  "language_info": {
   "codemirror_mode": {
    "name": "ipython",
    "version": 3
   },
   "file_extension": ".py",
   "mimetype": "text/x-python",
   "name": "python",
   "nbconvert_exporter": "python",
   "pygments_lexer": "ipython3",
   "version": "3.10.9"
  }
 },
 "nbformat": 4,
 "nbformat_minor": 5
}
